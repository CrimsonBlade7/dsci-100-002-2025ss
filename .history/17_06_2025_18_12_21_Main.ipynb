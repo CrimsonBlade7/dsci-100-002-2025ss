{
 "cells": [
  {
   "cell_type": "code",
   "execution_count": null,
   "id": "3b9694ae-d008-45d9-a695-87e1f37eb869",
   "metadata": {},
   "outputs": [],
   "source": [
    "library(tidyverse)\n",
    "library(tidymodels)\n",
    "library(tidyclust)\n",
    "library(repr)\n",
    "library('stringr')\n",
    "options(repr.matrix.max.rows = 6)"
   ]
  },
  {
   "cell_type": "code",
   "execution_count": null,
   "id": "214d8ba7-75a9-463c-85f7-912a3885ecdd",
   "metadata": {},
   "outputs": [],
   "source": [
    "players_data_raw <- read_csv(\"data/players.csv\")\n",
    "sessions_data_raw <- read_csv(\"data/sessions.csv\")\n",
    "players_data_raw\n",
    "sessions_data_raw"
   ]
  },
  {
   "cell_type": "code",
   "execution_count": null,
   "id": "7add4c4e-1d0e-4bbb-91fa-099aaec2cbeb",
   "metadata": {},
   "outputs": [],
   "source": [
    "players_data <- players_data_raw |>\n",
    "                    drop_na()\n",
    "sessions_data <- sessions_data_raw |>\n",
    "                    as.POSIXct(format = \"%d/%m/%Y %H:%M\") |>\n",
    "                    mutate(start_time = as.POSIXlt(start_time),\n",
    "                          end_time = as.POSIXlt(end_time))\n",
    "players_data\n",
    "sessions_data\n"
   ]
  },
  {
   "cell_type": "code",
   "execution_count": null,
   "id": "68945a18-0cfc-422b-9b82-f71645ff0ee4",
   "metadata": {},
   "outputs": [],
   "source": []
  }
 ],
 "metadata": {
  "kernelspec": {
   "display_name": "R",
   "language": "R",
   "name": "ir"
  },
  "language_info": {
   "codemirror_mode": "r",
   "file_extension": ".r",
   "mimetype": "text/x-r-source",
   "name": "R",
   "pygments_lexer": "r",
   "version": "4.3.3"
  }
 },
 "nbformat": 4,
 "nbformat_minor": 5
}
